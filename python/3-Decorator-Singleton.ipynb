{
 "cells": [
  {
   "cell_type": "markdown",
   "metadata": {},
   "source": [
    "# PADRÕES DE PROJETO EM PYTHON\n",
    "\n",
    "[![Google Colab](https://img.shields.io/badge/launch_google_colab-introducao_python-yellow.svg)](https://colab.research.google.com/github/catolicasc-joinville/lp1-notebooks/blob/master/python/3-PadroesDeProjeto.ipynb)\n",
    "\n",
    "[https://colab.research.google.com/github/catolicasc-joinville/lp1-notebooks/blob/master/python/3-PadroesDeProjeto.ipynb](https://colab.research.google.com/github/catolicasc-joinville/lp1-notebooks/blob/master/python/3-PadroesDeProjeto.ipynb)\n",
    "\n",
    "\n",
    "Os [padrões de projeto](https://pt.wikipedia.org/wiki/Padr%C3%A3o_de_projeto_de_software) foram documentados pela primeira vez pelo grupo GoF ([Gang of Four](https://en.wikipedia.org/wiki/Design_Patterns)). Inicialmente foram descobertos 23 padrões de projeto e documentados foco nas linguagens C++ e Java. Desde então, as linguagens de programação evoluíram e vários desses padrões foram implementados em nível de linguagem, como é feito em Python.\n",
    "\n",
    "Os padrões podem ser divididos em 3 categorias.\n",
    "\n",
    "**Padrões de criação**: funcionam com base no modo como os objetos podem ser criados isolando os detalhes da criação dos objetos. O código é independente do tipo do objeto a ser criado.\n",
    "\n",
    "**Padrões estruturais**: determinam o design da estrutura de objetos e classes para que estes possam ser compostos. O foco está em simplificar a estrutura e identificar o relacionamento entre classes e objetos. Está focado na herança e composição de classes.\n",
    "\n",
    "**Padrões comportamentais**: estão preocupados com a interação entre os objetos e suas responsabilidades. Os objetos deve ser capazes de interagir e, mesmo assim, devem ter baixo acoplamento.\n",
    "\n",
    "Em linguagens dinâmicas como Python os tipos e classes são objetos criados em tempo de execução. As variáveis podem ter seu tipo definido a partir de um valor atribuído e podem ser modificadas em tempo de execução. Por exemplo, se definirmos a variável `variavel = 42`, podemos modificarmos p seu valor para `variavel = 'Quarenta e Dois` em tempo de execução, isso também muda o tipo da variável.\n",
    "\n",
    "No geral, linguagens dinâmicas também são mais flexíveis em relação às restrições na contrução de classes. Por exemplo, em Python o polimorfismo está embutido na linguagem e não existem palavras reservadas como `private` e `protected`.\n",
    "\n",
    "O uso de Padrões de Projetos nos fornecem algumas vantagens:\n",
    "\n",
    "* Fornecem uma linguagem comum para todos os desenvolvedores do projeto;\n",
    "* Os Padrões são reutilizáveis em vários projetos;\n",
    "* Nos ajudam a solucionar problemas de arquitetura;\n",
    "* São confiáveis;\n",
    "* Diminuem a carga mental ao tentar solucionar problemas.\n",
    "\n",
    "Nem todo código pode virar um Padrão de Projeto. Alguns códigos são apenas trechos que servem a determinado propósito como por exemplo realizar uma conexão com o banco de dados. Outros códigos podem ser apenas uma convensão. Um padrão é uma solução eficiente e escalável, resistente ao teste do tempo que resolverá toda uma classe de problemas conhecidos.\n",
    "\n",
    "Padrões de Projetos são independentes de linguagem e podem ser implementados em linguagens diferentes. Eles podem ser personalizados de forma a se tornarem mais úteis aos desenvolvedores e não têm por objetivo resolver todos os problemas."
   ]
  },
  {
   "cell_type": "markdown",
   "metadata": {},
   "source": [
    "## PADRÃO DECORATOR\n",
    "\n",
    "Decorators permitem adicionar um comportamento a funções, métodos e objetos já existentes em tempo de execução, ou seja, agregar dinamicamente responsabilidades adicionais. Decorators oferecem uma alternativa flexível ao uso de herança para estender uma funcionalidade, com isso adiciona-se uma responsabilidade ao objeto e não à classe [[*]](https://pt.wikipedia.org/wiki/Decorator). O uso de Decorators nos ajuda a adicionar funcionalidades à um objeto sem a necessidade de usar herança.\n",
    "\n",
    "Em Python Decorators são implementados usando funções, então antes de entender o que é e como usar o Decorator, vamos entender um pouco mais sobre funções. \n",
    "\n",
    "Funções são trechos de código que recebem parâmetros, realizam operações e retornam algum valor. Abaixo uma função que implementa a soma de dois números:\n",
    "\n",
    "```python\n",
    "def sum(one, two):\n",
    "    return (one + two)\n",
    "```\n",
    "\n",
    "Em Python. funções são \"objetos de primeira classe\". Isso significa que funções podem ser passadas como parâmetro, utilizadas como retorno de outras funções, assim como qualquer outro time (string, int, float).\n",
    "\n",
    "Vamos ver como usar este poder! Atribuindo funções à variáveis:"
   ]
  },
  {
   "cell_type": "code",
   "execution_count": 20,
   "metadata": {},
   "outputs": [
    {
     "name": "stdout",
     "output_type": "stream",
     "text": [
      "Hello World\n"
     ]
    }
   ],
   "source": [
    "def greet(name):\n",
    "    return f\"Hello {name}\"\n",
    "\n",
    "greet_someone = greet\n",
    "print(greet_someone(\"World\"))"
   ]
  },
  {
   "cell_type": "markdown",
   "metadata": {},
   "source": [
    "Definindo funções dentro de outras funções:"
   ]
  },
  {
   "cell_type": "code",
   "execution_count": 21,
   "metadata": {},
   "outputs": [
    {
     "name": "stdout",
     "output_type": "stream",
     "text": [
      "Hello World\n"
     ]
    }
   ],
   "source": [
    "def greet(name):\n",
    "    def get_message():\n",
    "        return \"Hello\"\n",
    "\n",
    "    result = f\"{get_message()} {name}\"\n",
    "    return result\n",
    "\n",
    "print(greet(\"World\"))"
   ]
  },
  {
   "cell_type": "markdown",
   "metadata": {},
   "source": [
    "Passando funções como parâmetro para outra função:"
   ]
  },
  {
   "cell_type": "code",
   "execution_count": 22,
   "metadata": {},
   "outputs": [
    {
     "name": "stdout",
     "output_type": "stream",
     "text": [
      "Hello World\n"
     ]
    }
   ],
   "source": [
    "def greet(name):\n",
    "    return f\"Hello {name}\" \n",
    "\n",
    "def call_func(func):\n",
    "    other_name = \"World\"\n",
    "    return func(other_name)  \n",
    "\n",
    "print(call_func(greet))"
   ]
  },
  {
   "cell_type": "markdown",
   "metadata": {},
   "source": [
    "Funções podem ser definidas dentro de outras funções e retornadas. Estas funções são chamadas de \"nested functions\":"
   ]
  },
  {
   "cell_type": "code",
   "execution_count": 24,
   "metadata": {},
   "outputs": [
    {
     "name": "stdout",
     "output_type": "stream",
     "text": [
      "Hello World!\n"
     ]
    }
   ],
   "source": [
    "def compose_greet_func():\n",
    "    def get_message():\n",
    "        return \"Hello World!\"\n",
    "\n",
    "    return get_message\n",
    "\n",
    "greet = compose_greet_func()\n",
    "print(greet())"
   ]
  },
  {
   "cell_type": "markdown",
   "metadata": {},
   "source": [
    "Funções definidas dentro de outras funções tem acesso ao escopo onde estão incluídas. Este comportamento é conhecido como \"closure\". Em Python temos acesso apenas a leitura de valores do escopo, não à escrita:"
   ]
  },
  {
   "cell_type": "code",
   "execution_count": 26,
   "metadata": {},
   "outputs": [
    {
     "name": "stdout",
     "output_type": "stream",
     "text": [
      "Hello there World!\n"
     ]
    }
   ],
   "source": [
    "def compose_greet_func(name):\n",
    "    def get_message():\n",
    "        return f\"Hello there {name}!\"\n",
    "\n",
    "    return get_message\n",
    "\n",
    "greet = compose_greet_func(\"World\")\n",
    "print(greet())"
   ]
  },
  {
   "cell_type": "markdown",
   "metadata": {},
   "source": [
    "Agora que aprendemos um pouco mais sobre funções, vamos entender os Decorators. Decorators nada mais são do que funções para envolver outras funções, wrappers, modificando seu comportamento."
   ]
  },
  {
   "cell_type": "code",
   "execution_count": 31,
   "metadata": {},
   "outputs": [
    {
     "name": "stdout",
     "output_type": "stream",
     "text": [
      "Before function\n",
      "Function\n",
      "After function\n"
     ]
    }
   ],
   "source": [
    "def decorator(funcao):\n",
    "    def wrapper():\n",
    "        print(\"Before function\")\n",
    "        funcao()\n",
    "        print(\"After function\")\n",
    "\n",
    "    return wrapper\n",
    "\n",
    "def other_function():\n",
    "    print(\"Function\")\n",
    "\n",
    "decorated_function = decorator(other_function)\n",
    "decorated_function()"
   ]
  },
  {
   "cell_type": "markdown",
   "metadata": {},
   "source": [
    "Dessa forma, conseguimos adicionar qualquer comportamento antes e depois da execução de uma função qualquer. Vamos fazer agora um exemplo mais útil, algo que todo mundo que desenvolve software teve que fazer alguma vez vida: calcular o tempo de execução de determinada função [[*]](https://pythonacademy.com.br/blog/domine-decorators-em-python):"
   ]
  },
  {
   "cell_type": "code",
   "execution_count": 44,
   "metadata": {},
   "outputs": [
    {
     "name": "stdout",
     "output_type": "stream",
     "text": [
      "[test_function_one] Total time: 0.24654006958007812\n",
      "[test_function_two] Total time: 1.8854198455810547\n"
     ]
    }
   ],
   "source": [
    "import time\n",
    "\n",
    "def duration(function):\n",
    "    def wrapper():\n",
    "        initial_time = time.time()\n",
    "        function()\n",
    "        final_time = time.time()\n",
    "\n",
    "        total_time = str(final_time - initial_time)\n",
    "        print(f\"[{function.__name__}] Total time: {total_time}\")\n",
    "\n",
    "    return wrapper\n",
    "\n",
    "def test_function_one():\n",
    "    for n in range(0, 10000000):\n",
    "        pass\n",
    "test_function_one = duration(test_function_one)\n",
    "\n",
    "def test_function_two():\n",
    "    for n in range(0, 100000000):\n",
    "        pass\n",
    "test_function_two = duration(test_function_two)\n",
    "\n",
    "test_function_one()\n",
    "test_function_two()"
   ]
  },
  {
   "cell_type": "markdown",
   "metadata": {},
   "source": [
    "Python torna a criação e uso de Decorators mais simples através de um [\"syntactic sugar\"](https://en.wikipedia.org/wiki/Syntactic_sugar). Para decorar `test_function_one` não precisamos fazer a atribuição `test_function_one = decorator(test_function_one)`. Uma notação especial representada pelo símbolo `@` foi definida na [PEP 318](https://www.python.org/dev/peps/pep-0318/):"
   ]
  },
  {
   "cell_type": "code",
   "execution_count": 46,
   "metadata": {},
   "outputs": [
    {
     "name": "stdout",
     "output_type": "stream",
     "text": [
      "[test_function_one] Total time: 0.2495570182800293\n",
      "[test_function_two] Total time: 1.9616570472717285\n"
     ]
    }
   ],
   "source": [
    "@duration\n",
    "def test_function_one():\n",
    "    for n in range(0, 10000000):\n",
    "        pass\n",
    "\n",
    "@duration\n",
    "def test_function_two():\n",
    "    for n in range(0, 100000000):\n",
    "        pass\n",
    "\n",
    "test_function_one()\n",
    "test_function_two()"
   ]
  },
  {
   "cell_type": "markdown",
   "metadata": {},
   "source": [
    "Este padrão é muito importante no universo Python e também em outras linguagens. Em Java, por exemplo, este padrão é chamado de \"Anotation\". Usamos Decorators por exemplo no framework [Flask](http://flask.pocoo.org/) para definir as rotas de um servidor de aplicação web:\n",
    "\n",
    "```python\n",
    "@app.route('/api/users')\n",
    "def users_list():\n",
    "    users = [1, 2, 3]\n",
    "    return jsonify(users)\n",
    "```\n",
    "\n",
    "Toda vez que uma requisição for feita para o endpoint `/api/users` a lista de usuários será retornada."
   ]
  },
  {
   "cell_type": "markdown",
   "metadata": {},
   "source": [
    "## PADRÃO SINGLETON\n",
    "\n",
    "Este padrão proporciona uma forma de se ter um e somente uma instância de um objeto de um determinado tipo, além de disponibilizar um ponto de acesso global a este objeto. Este tipo de padrão é geralmente usado em casos como logging, operações do banco de dados, spoolers de impressão e muitos outros cenários em que seja necessário que haja apenas uma instância disponível para toda a aplicação a fim de evitar requisições conflitantes para o mesmo recurso.\n",
    "\n",
    "Em resumo, este padrão:\n",
    "* Garante que uma e somente uma instância de um objeto da classe será criada;\n",
    "* Oferece um ponto de acesso único global para um objeto;\n",
    "* Controla o acesso concorrente a recursos compartilhados.\n",
    "\n",
    "O diagrama UML a seguir representa uma implementação do padrão Singleton:\n",
    "\n",
    "![design-patterns-singleton](assets/design_patterns/design-patterns-singleton.png)\n",
    "\n",
    "Nesta implementação deixamos o construtor privado e criamos um método estático que faz a inicialização do objeto. Desta forma, um objeto é criado na primeira chamada e a classe devolverá o mesmo objeto a partir daí.\n",
    "\n",
    "Em Python podemos implementar da seguinte forma:"
   ]
  },
  {
   "cell_type": "code",
   "execution_count": 12,
   "metadata": {},
   "outputs": [
    {
     "name": "stdout",
     "output_type": "stream",
     "text": [
      "<__main__.Singleton object at 0x10b34ca58>\n",
      "<__main__.Singleton object at 0x10b34ca58>\n"
     ]
    }
   ],
   "source": [
    "class Singleton:\n",
    "    @classmethod\n",
    "    def instance(cls):\n",
    "        if not hasattr(cls, 'inst'):\n",
    "            cls.inst = super().__new__(cls)\n",
    "        return cls.inst\n",
    "\n",
    "s1 = Singleton.instance()\n",
    "s2 = Singleton.instance()\n",
    "print(s1)\n",
    "print(s2)"
   ]
  },
  {
   "cell_type": "markdown",
   "metadata": {},
   "source": [
    "A função `@classmethod` é um tipo especial de função usada em Python chamada de decorator. Decorators funcionam como um invólucro (wrapper) modificando o comportamento de uma função ou método antes e depois da execução dela sem a necessidade de modificar a função em si, aumentando sua funcionalidade original. E olha que legal! Estamos usando um Padrão de Projeto para implementar outro :)\n",
    "\n",
    "O decorator `@classmethod` é usada para chamarmos um método da classe sem instanciar um objeto dessa classe. Métodos decorados com `@classmethod` podem ser sobreescritos por subclasses. O primeiro argumento de um método decorado com `@classmethod` sempre deve ser `cls` (class). o decorator `@classmethod` facilita também a legibilidade do código. Ao ver `@staticmethod`, sabemos que o método não depende do estado do próprio objeto. Aprenda mais sobre [decorator aqui](https://www.thecodeship.com/patterns/guide-to-python-function-decorators/).\n",
    "\n",
    "Podemos melhorar um pouco mais este código, deixando o padrão `Singleton` ainda mais simples e \"pythonico`:\n"
   ]
  },
  {
   "cell_type": "code",
   "execution_count": 13,
   "metadata": {},
   "outputs": [
    {
     "name": "stdout",
     "output_type": "stream",
     "text": [
      "<__main__.Singleton object at 0x10b34ccc0>\n",
      "<__main__.Singleton object at 0x10b34ccc0>\n"
     ]
    }
   ],
   "source": [
    "class Singleton:\n",
    "    def __new__(cls):\n",
    "        if not hasattr(cls, 'instance'):\n",
    "            cls.instance = super().__new__(cls)\n",
    "        return cls.instance\n",
    "\n",
    "s1 = Singleton()\n",
    "s2 = Singleton()\n",
    "print(s1)\n",
    "print(s2)"
   ]
  },
  {
   "cell_type": "markdown",
   "metadata": {},
   "source": [
    "Repare que o endereço de memória nos dois casos é o mesmo.\n",
    "\n",
    "Em Python o método `__new__` é responsável por instanciar objetos, por isso sobrescrevemos ele para controlar a criação dos objetos garantindo que apenas um seja instanciado. Veja, você pensava que esta era a função do método `__init__` né? Mas a função do método `__init__` é inicializar o objeto, quando ele já foi instanciado.\n",
    "\n",
    "No código acima o métodod `hasattr` é usado para saber se o objeto contém uma determinada propriedade. Neste caso estamos testando se a classe ainda não tem uma instância do objeto. Se não tiver, criamos uma, se não, retornamos ela.\n",
    "\n",
    "Podemos implementar este padrão usando outras formas na linguagem Python, como por exemplo metaclasses. Uma metaclasse é uma classe cujas instâncias são classes. Como uma classe \"ordinária\" define o comportamento das instâncias da classe (os objetos), uma metaclasse define o comportamento das classes e suas instâncias 🤯. Mais sobre [metaclasses aqui](https://realpython.com/python-metaclasses/).\n",
    "\n",
    "Como a metaclasse tem mais controle sobre a criação da classe e a instanciação de objetos, ela pode ser usada para criar Singletons:"
   ]
  },
  {
   "cell_type": "code",
   "execution_count": 13,
   "metadata": {},
   "outputs": [
    {
     "name": "stdout",
     "output_type": "stream",
     "text": [
      "<__main__.Logger object at 0x10a990278>\n",
      "<__main__.Logger object at 0x10a990278>\n"
     ]
    }
   ],
   "source": [
    "class Singleton(type):\n",
    "    _instances = {}\n",
    "        \n",
    "    def __call__(cls, *args, **kwargs):\n",
    "        if cls not in cls._instances:\n",
    "            cls._instances[cls] = super().__call__(*args, **kwargs)\n",
    "        return cls._instances[cls]\n",
    "\n",
    "\n",
    "class Logger(metaclass=Singleton):\n",
    "    def log(self, message):\n",
    "        print(f\"[LOG] {message}\")\n",
    "\n",
    "\n",
    "logger1 = Logger()\n",
    "logger2 = Logger()\n",
    "print(logger1)\n",
    "print(logger2)"
   ]
  },
  {
   "cell_type": "markdown",
   "metadata": {},
   "source": [
    "Desta forma podemos começar a criar nossa própria biblioteca de Padrões de Projeto. Neste caso, uma classe do tipo `Singleton` que podemos usar para extender todas as classes que queremos usar com este padrão!"
   ]
  },
  {
   "cell_type": "code",
   "execution_count": null,
   "metadata": {},
   "outputs": [],
   "source": []
  }
 ],
 "metadata": {
  "kernelspec": {
   "display_name": "Python 3",
   "language": "python",
   "name": "python3"
  },
  "language_info": {
   "codemirror_mode": {
    "name": "ipython",
    "version": 3
   },
   "file_extension": ".py",
   "mimetype": "text/x-python",
   "name": "python",
   "nbconvert_exporter": "python",
   "pygments_lexer": "ipython3",
   "version": "3.6.2"
  }
 },
 "nbformat": 4,
 "nbformat_minor": 2
}
