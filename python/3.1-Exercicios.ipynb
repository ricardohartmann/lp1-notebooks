{
 "cells": [
  {
   "cell_type": "markdown",
   "metadata": {},
   "source": [
    "# EXERCÍCIOS\n",
    "\n",
    "1) Implemente uma função do tipo decorator para logar todos os valores que são passados por parâmetro para uma função e seus valores de retorno. Dê alguns exemplos do uso desse Decotaror usando ele como wrapper em funções que implementam a soma, subtração, multiplicação e divisão de dois números:\n",
    "\n",
    "```python\n",
    "@logger\n",
    "def soma(x, y):\n",
    "    return x + y\n",
    "\n",
    "soma(1, 2)\n",
    "```\n",
    "\n",
    "Deve apresentar a mensagem:\n",
    "\n",
    "```python\n",
    "Função: soma - Parâmetros: 1, 2 - Retorno: 3\n",
    "```"
   ]
  },
  {
   "cell_type": "code",
   "execution_count": null,
   "metadata": {},
   "outputs": [],
   "source": []
  },
  {
   "cell_type": "markdown",
   "metadata": {},
   "source": [
    "2) Escreva um programa em Python para criar uma cadeia de decoradores de funções negrito, italico, sublinhado. Aplique a sequência de decoradores a uma função que retorna \"Hello World!\". Exemplo de implementação:\n",
    "\n",
    "```python\n",
    "@negrito\n",
    "@italico\n",
    "@sublinado\n",
    "def hello():\n",
    "    return \"Hello World!\"\n",
    "```\n",
    "\n",
    "Deve retornar:\n",
    "\n",
    "```python\n",
    "\"<b><i><u>Hello World!</u></i></b>\"\n",
    "```"
   ]
  },
  {
   "cell_type": "code",
   "execution_count": null,
   "metadata": {},
   "outputs": [],
   "source": []
  },
  {
   "cell_type": "markdown",
   "metadata": {},
   "source": [
    "3) A classe `Increment` apresentada abaixo deve incrementar em 1 toda vez que é instanciada. Conversa ela para uma classe do tipo Singleton para que este comportamento seja executado como esperado:"
   ]
  },
  {
   "cell_type": "code",
   "execution_count": 6,
   "metadata": {},
   "outputs": [
    {
     "name": "stdout",
     "output_type": "stream",
     "text": [
      "Current value 1\n",
      "Current value 1\n"
     ]
    }
   ],
   "source": [
    "class Incremental:\n",
    "    count = 0\n",
    "\n",
    "    def increment(self):\n",
    "        self.count += 1\n",
    "        \n",
    "    def __str__(self):\n",
    "        return f\"Current value {self.count}\"\n",
    "        \n",
    "i1 = Incremental()\n",
    "i1.increment()\n",
    "print(i1)\n",
    "\n",
    "i2 = Incremental()\n",
    "i2.increment()\n",
    "print(i2)"
   ]
  },
  {
   "cell_type": "markdown",
   "metadata": {},
   "source": [
    "A saída deveria ser:\n",
    "\n",
    "```\n",
    "Current value 1\n",
    "Current value 2\n",
    "```\n",
    "\n",
    "Implemente a classe Incremental usando o padrão Singleton:"
   ]
  },
  {
   "cell_type": "code",
   "execution_count": null,
   "metadata": {},
   "outputs": [],
   "source": []
  }
 ],
 "metadata": {
  "kernelspec": {
   "display_name": "Python 3",
   "language": "python",
   "name": "python3"
  },
  "language_info": {
   "codemirror_mode": {
    "name": "ipython",
    "version": 3
   },
   "file_extension": ".py",
   "mimetype": "text/x-python",
   "name": "python",
   "nbconvert_exporter": "python",
   "pygments_lexer": "ipython3",
   "version": "3.6.2"
  }
 },
 "nbformat": 4,
 "nbformat_minor": 2
}
