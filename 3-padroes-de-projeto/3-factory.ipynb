{
 "cells": [
  {
   "cell_type": "markdown",
   "metadata": {},
   "source": [
    "## PADRÃO FACTORY\n",
    "\n",
    "[![Google Colab](https://img.shields.io/badge/launch-factory-yellow.svg)](https://colab.research.google.com/github/catolicasc-joinville/lp1-notebooks/blob/master/3-padroes-de-projeto/3-factory.ipynb) [launch](https://colab.research.google.com/github/catolicasc-joinville/lp1-notebooks/blob/master/3-padroes-de-projeto/3-factory.ipynb)\n",
    "\n",
    "Factory refere-se a uma classe responsável por criar objetos de outros tipos. Geralmente, a classe que atua como uma Factory tem um objeto e métodos associados a ela. O cliente chama esse método com determinados parâmetros e os objetos dos tipos desejados são criados e devolvidos ao cliente.\n",
    "\n",
    "Este padrão nos oferece:\n",
    "* Baixo acoplamento. A criação de um objeto pode ser independente da implementação da classe\n",
    "* O cliente não precisa conhecer a classe que cria o objeto, que, por sua vez, é utilizado pelo cliente. É necessário conhecer apenas a interface, os métodos e os parâmetros que devem ser passados\n",
    "* Podemos adicionar novas classes que podem ser retornadas por uma Factory sem alterar a implementação do cliente\n",
    "\n",
    "\n",
    "\n",
    "A seguir o diagrama UML de uma implementação do padrão Singleton:\n",
    "\n",
    "![design-patterns-factory](assets/design_patterns/design-patterns-factory.png)\n",
    "\n",
    "Em Python:"
   ]
  },
  {
   "cell_type": "code",
   "execution_count": 59,
   "metadata": {},
   "outputs": [
    {
     "name": "stdout",
     "output_type": "stream",
     "text": [
      "Circle area = 78.53981633974483\n",
      "Rectangle area = 50\n"
     ]
    }
   ],
   "source": [
    "import math\n",
    "\n",
    "class Shape:\n",
    "    @staticmethod\n",
    "    def factory(type, *args):\n",
    "        if type not in [subclass.__name__ for subclass in Shape.__subclasses__()]:\n",
    "            raise ValueError(f\"Class {type} not implemented.\")\n",
    "        formated_args = ', '.join([str(arg) for arg in args])\n",
    "        return eval(type + f\"({formated_args})\")\n",
    "\n",
    "    def area(self):\n",
    "        raise NotImplementedError\n",
    "    \n",
    "    def __str__(self):\n",
    "        return f\"{type(self).__name__} area = {self.area()}\"\n",
    "\n",
    "class Circle(Shape):\n",
    "    def __init__(self, radius):\n",
    "        self.radius = radius\n",
    "\n",
    "    def area(self):\n",
    "        return (self.radius ** 2) * math.pi\n",
    "\n",
    "    \n",
    "class Rectangle(Shape):\n",
    "    def __init__(self, x, y):\n",
    "        self.x = x\n",
    "        self.y = y\n",
    "\n",
    "    def area(self):\n",
    "        return self.x * self.y\n",
    "\n",
    "shapes = [\n",
    "    Shape.factory(\"Circle\", 5),\n",
    "    Shape.factory(\"Rectangle\", 10, 5)\n",
    "]\n",
    " \n",
    "for shape in shapes:\n",
    "    print(shape)"
   ]
  },
  {
   "cell_type": "code",
   "execution_count": null,
   "metadata": {},
   "outputs": [],
   "source": []
  }
 ],
 "metadata": {
  "kernelspec": {
   "display_name": "Python 3",
   "language": "python",
   "name": "python3"
  },
  "language_info": {
   "codemirror_mode": {
    "name": "ipython",
    "version": 3
   },
   "file_extension": ".py",
   "mimetype": "text/x-python",
   "name": "python",
   "nbconvert_exporter": "python",
   "pygments_lexer": "ipython3",
   "version": "3.6.2"
  }
 },
 "nbformat": 4,
 "nbformat_minor": 2
}
